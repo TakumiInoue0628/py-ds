{
 "cells": [
  {
   "cell_type": "code",
   "execution_count": 1,
   "id": "8f42a9d4",
   "metadata": {},
   "outputs": [],
   "source": [
    "import pandas as pd\n",
    "import numpy as np\n",
    "import matplotlib.pyplot as plt\n",
    "import matplotlib_fontja"
   ]
  },
  {
   "cell_type": "markdown",
   "id": "ea129c51",
   "metadata": {},
   "source": [
    "## 前処理"
   ]
  },
  {
   "cell_type": "markdown",
   "id": "4347159b",
   "metadata": {},
   "source": [
    "### 読み込み"
   ]
  },
  {
   "cell_type": "code",
   "execution_count": 18,
   "id": "b2c47ee5",
   "metadata": {},
   "outputs": [
    {
     "name": "stdout",
     "output_type": "stream",
     "text": [
      "<class 'pandas.core.frame.DataFrame'>\n",
      "RangeIndex: 1741 entries, 0 to 1740\n",
      "Data columns (total 5 columns):\n",
      " #   Column      Non-Null Count  Dtype \n",
      "---  ------      --------------  ----- \n",
      " 0   地域コード       1741 non-null   object\n",
      " 1   都道府県        1741 non-null   object\n",
      " 2   市区町村        1741 non-null   object\n",
      " 3   農家数（販売農家）   1741 non-null   int64 \n",
      " 4   農家数（自給的農家）  1741 non-null   int64 \n",
      "dtypes: int64(2), object(3)\n",
      "memory usage: 68.1+ KB\n"
     ]
    }
   ],
   "source": [
    "### Read data\n",
    "data_path_1 = '../data/ssdse/SSDSE-A-2024-2019.csv'\n",
    "df_1 = pd.read_csv(data_path_1, encoding='shift_jis')\n",
    "\n",
    "df_1.info()"
   ]
  },
  {
   "cell_type": "code",
   "execution_count": 10,
   "id": "cea18115",
   "metadata": {},
   "outputs": [
    {
     "data": {
      "text/html": [
       "<div>\n",
       "<style scoped>\n",
       "    .dataframe tbody tr th:only-of-type {\n",
       "        vertical-align: middle;\n",
       "    }\n",
       "\n",
       "    .dataframe tbody tr th {\n",
       "        vertical-align: top;\n",
       "    }\n",
       "\n",
       "    .dataframe thead th {\n",
       "        text-align: right;\n",
       "    }\n",
       "</style>\n",
       "<table border=\"1\" class=\"dataframe\">\n",
       "  <thead>\n",
       "    <tr style=\"text-align: right;\">\n",
       "      <th></th>\n",
       "      <th>地域コード</th>\n",
       "      <th>都道府県</th>\n",
       "      <th>市区町村</th>\n",
       "      <th>農家数（販売農家）</th>\n",
       "      <th>農家数（自給的農家）</th>\n",
       "    </tr>\n",
       "  </thead>\n",
       "  <tbody>\n",
       "    <tr>\n",
       "      <th>0</th>\n",
       "      <td>R01100</td>\n",
       "      <td>北海道</td>\n",
       "      <td>札幌市</td>\n",
       "      <td>347</td>\n",
       "      <td>280</td>\n",
       "    </tr>\n",
       "    <tr>\n",
       "      <th>1</th>\n",
       "      <td>R01202</td>\n",
       "      <td>北海道</td>\n",
       "      <td>函館市</td>\n",
       "      <td>146</td>\n",
       "      <td>132</td>\n",
       "    </tr>\n",
       "    <tr>\n",
       "      <th>2</th>\n",
       "      <td>R01203</td>\n",
       "      <td>北海道</td>\n",
       "      <td>小樽市</td>\n",
       "      <td>54</td>\n",
       "      <td>58</td>\n",
       "    </tr>\n",
       "    <tr>\n",
       "      <th>3</th>\n",
       "      <td>R01204</td>\n",
       "      <td>北海道</td>\n",
       "      <td>旭川市</td>\n",
       "      <td>843</td>\n",
       "      <td>273</td>\n",
       "    </tr>\n",
       "    <tr>\n",
       "      <th>4</th>\n",
       "      <td>R01205</td>\n",
       "      <td>北海道</td>\n",
       "      <td>室蘭市</td>\n",
       "      <td>12</td>\n",
       "      <td>8</td>\n",
       "    </tr>\n",
       "  </tbody>\n",
       "</table>\n",
       "</div>"
      ],
      "text/plain": [
       "    地域コード 都道府県 市区町村  農家数（販売農家）  農家数（自給的農家）\n",
       "0  R01100  北海道  札幌市        347         280\n",
       "1  R01202  北海道  函館市        146         132\n",
       "2  R01203  北海道  小樽市         54          58\n",
       "3  R01204  北海道  旭川市        843         273\n",
       "4  R01205  北海道  室蘭市         12           8"
      ]
     },
     "execution_count": 10,
     "metadata": {},
     "output_type": "execute_result"
    }
   ],
   "source": [
    "### Read data\n",
    "data_path_1 = '../data/ssdse/modified/SSDSE-A-2024-2019.csv'\n",
    "df_1 = pd.read_csv(data_path_1, encoding='utf-8')\n",
    "\n",
    "df_1.head()"
   ]
  },
  {
   "cell_type": "markdown",
   "id": "309425ff",
   "metadata": {},
   "source": [
    "### 加工"
   ]
  },
  {
   "cell_type": "markdown",
   "id": "658f8163",
   "metadata": {},
   "source": [
    "#### 集約"
   ]
  },
  {
   "cell_type": "code",
   "execution_count": 19,
   "id": "f127b0d6",
   "metadata": {},
   "outputs": [],
   "source": [
    "### Read data\n",
    "data_path_2 = '../data/ssdse/modified/SSDSE-A-2024-2020.csv'\n",
    "data_path_3 = '../data/ssdse/modified/SSDSE-A-2024-2021.csv'\n",
    "data_path_4 = '../data/ssdse/modified/SSDSE-A-2024-2021.csv'\n",
    "df_2 = pd.read_csv(data_path_2, encoding='utf-8')\n",
    "df_3 = pd.read_csv(data_path_3, encoding='utf-8')\n",
    "df_4 = pd.read_csv(data_path_4, encoding='utf-8')"
   ]
  }
 ],
 "metadata": {
  "kernelspec": {
   "display_name": "venv",
   "language": "python",
   "name": "python3"
  },
  "language_info": {
   "codemirror_mode": {
    "name": "ipython",
    "version": 3
   },
   "file_extension": ".py",
   "mimetype": "text/x-python",
   "name": "python",
   "nbconvert_exporter": "python",
   "pygments_lexer": "ipython3",
   "version": "3.8.10"
  }
 },
 "nbformat": 4,
 "nbformat_minor": 5
}
